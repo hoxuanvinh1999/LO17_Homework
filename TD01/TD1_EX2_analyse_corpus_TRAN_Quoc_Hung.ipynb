{
 "cells": [
  {
   "cell_type": "code",
   "execution_count": 1,
   "id": "4f550042",
   "metadata": {},
   "outputs": [
    {
     "name": "stderr",
     "output_type": "stream",
     "text": [
      "[nltk_data] Downloading package genesis to\n",
      "[nltk_data]     /home/tranquochung/nltk_data...\n",
      "[nltk_data]   Package genesis is already up-to-date!\n",
      "[nltk_data] Downloading package inaugural to\n",
      "[nltk_data]     /home/tranquochung/nltk_data...\n",
      "[nltk_data]   Package inaugural is already up-to-date!\n",
      "[nltk_data] Downloading package nps_chat to\n",
      "[nltk_data]     /home/tranquochung/nltk_data...\n",
      "[nltk_data]   Package nps_chat is already up-to-date!\n",
      "[nltk_data] Downloading package webtext to\n",
      "[nltk_data]     /home/tranquochung/nltk_data...\n",
      "[nltk_data]   Package webtext is already up-to-date!\n",
      "[nltk_data] Downloading package treebank to\n",
      "[nltk_data]     /home/tranquochung/nltk_data...\n",
      "[nltk_data]   Package treebank is already up-to-date!\n",
      "[nltk_data] Downloading package stopwords to\n",
      "[nltk_data]     /home/tranquochung/nltk_data...\n",
      "[nltk_data]   Package stopwords is already up-to-date!\n"
     ]
    },
    {
     "name": "stdout",
     "output_type": "stream",
     "text": [
      "*** Introductory Examples for the NLTK Book ***\n",
      "Loading text1, ..., text9 and sent1, ..., sent9\n",
      "Type the name of the text or sentence to view it.\n",
      "Type: 'texts()' or 'sents()' to list the materials.\n",
      "text1: Moby Dick by Herman Melville 1851\n",
      "text2: Sense and Sensibility by Jane Austen 1811\n",
      "text3: The Book of Genesis\n",
      "text4: Inaugural Address Corpus\n",
      "text5: Chat Corpus\n",
      "text6: Monty Python and the Holy Grail\n",
      "text7: Wall Street Journal\n",
      "text8: Personals Corpus\n",
      "text9: The Man Who Was Thursday by G . K . Chesterton 1908\n"
     ]
    }
   ],
   "source": [
    "import nltk\n",
    "nltk.download('genesis')\n",
    "nltk.download('inaugural')\n",
    "nltk.download('nps_chat')\n",
    "nltk.download('webtext')\n",
    "nltk.download('treebank')\n",
    "nltk.download('stopwords')\n",
    "\n",
    "from nltk.corpus import udhr\n",
    "from nltk.book import *\n",
    "from nltk.corpus import stopwords\n",
    "from string import punctuation"
   ]
  },
  {
   "cell_type": "code",
   "execution_count": 2,
   "id": "d74260f8",
   "metadata": {},
   "outputs": [],
   "source": [
    "import  nltk \n",
    "import codecs \n",
    "import pickle\n",
    "\n",
    "def getWords(filemname):\n",
    "    f = open(filemname,'r')\n",
    "    text = f.read()\n",
    "#     l = nltk.regexp_tokenize(text, \"\\w+\")\n",
    "    f.close()\n",
    "    return text\n",
    "\n",
    "def getLowerWords(filemname):\n",
    "    f = open(filemname,'r')\n",
    "    text = f.read().lower()\n",
    "#     l = nltk.regexp_tokenize(text, \"\\w+\")\n",
    "    f.close()\n",
    "    return text\n"
   ]
  },
  {
   "cell_type": "markdown",
   "id": "6ed88820",
   "metadata": {},
   "source": [
    "### On va analyser le corpus 'tbbts03e02.txt' "
   ]
  },
  {
   "cell_type": "code",
   "execution_count": 3,
   "id": "8f522017",
   "metadata": {},
   "outputs": [],
   "source": [
    "filenames = ['tbbt/s3/txt/tbbts03e01.txt',\n",
    "             'tbbt/s3/txt/tbbts03e02.txt',\n",
    "             'tbbt/s3/txt/tbbts03e03.txt',\n",
    "             'tbbt/s3/txt/tbbts03e04.txt',\n",
    "             'tbbt/s3/txt/tbbts03e05.txt',\n",
    "             'tbbt/s3/txt/tbbts03e06.txt']\n",
    "\n",
    "data_raw_text = getWords(filenames[1])"
   ]
  },
  {
   "cell_type": "code",
   "execution_count": 4,
   "id": "07f71c6e",
   "metadata": {},
   "outputs": [
    {
     "data": {
      "text/plain": [
       "'tbbt/s3/txt/tbbts03e02.txt'"
      ]
     },
     "execution_count": 4,
     "metadata": {},
     "output_type": "execute_result"
    }
   ],
   "source": [
    "filenames[1]"
   ]
  },
  {
   "cell_type": "code",
   "execution_count": 5,
   "id": "c3852530",
   "metadata": {},
   "outputs": [
    {
     "data": {
      "text/plain": [
       "\"Sheldon, you're wrong. \\nWolverine was not born with bone claws. \\nHoward, you know me to be a very smart man. \\nDon't you think if I were wrong, I'd know it? \\n- First of all - \\n- Give it up. \\nYou're arguing with a crazy person. \\nI'm not crazy. \\nMy mother had me tested. \\n- Hey, guys. \\n- What are you doing here? \\nWhat? \\nIt's new-comic-book night. \\nSince you and Penny hooked up we thought you two would be having bouncy naked yum-yum night. \\nThere's more to life than sex, Raj. \\nWho had Leonard flames \""
      ]
     },
     "execution_count": 5,
     "metadata": {},
     "output_type": "execute_result"
    }
   ],
   "source": [
    "data_raw_text[:500]"
   ]
  },
  {
   "cell_type": "markdown",
   "id": "da46322e",
   "metadata": {},
   "source": [
    "#### Le nombre de caractères dans le texte"
   ]
  },
  {
   "cell_type": "code",
   "execution_count": 6,
   "id": "25b853dd",
   "metadata": {},
   "outputs": [
    {
     "data": {
      "text/plain": [
       "13684"
      ]
     },
     "execution_count": 6,
     "metadata": {},
     "output_type": "execute_result"
    }
   ],
   "source": [
    "len(data_raw_text)"
   ]
  },
  {
   "cell_type": "markdown",
   "id": "9c61fc16",
   "metadata": {},
   "source": [
    "## Natural language Processing"
   ]
  },
  {
   "cell_type": "markdown",
   "id": "eefe62e4",
   "metadata": {},
   "source": [
    "## 1. Tokenization"
   ]
  },
  {
   "cell_type": "markdown",
   "id": "c4f24ac8",
   "metadata": {},
   "source": [
    "### Découpage en phrases"
   ]
  },
  {
   "cell_type": "markdown",
   "id": "98056c59",
   "metadata": {},
   "source": [
    "Afficher le nombre de phases ainsi que les phases correspontdants "
   ]
  },
  {
   "cell_type": "code",
   "execution_count": 7,
   "id": "0c41bc76",
   "metadata": {},
   "outputs": [
    {
     "name": "stdout",
     "output_type": "stream",
     "text": [
      "number of sentences in text: 388\n",
      "\n",
      "\n",
      "[\"Sheldon, you're wrong.\", 'Wolverine was not born with bone claws.', 'Howard, you know me to be a very smart man.', \"Don't you think if I were wrong, I'd know it?\", '- First of all - \\n- Give it up.', \"You're arguing with a crazy person.\", \"I'm not crazy.\", 'My mother had me tested.', '- Hey, guys.', '- What are you doing here?']\n"
     ]
    }
   ],
   "source": [
    "\n",
    "from nltk.tokenize import sent_tokenize, word_tokenize\n",
    "\n",
    "print(\"number of sentences in text:\",len(sent_tokenize(data_raw_text)))\n",
    "print(\"\\n\")\n",
    "sentences = sent_tokenize(data_raw_text)\n",
    "print(sentences[:10])"
   ]
  },
  {
   "cell_type": "markdown",
   "id": "f0775d1b",
   "metadata": {},
   "source": [
    "### Découpage en mots"
   ]
  },
  {
   "cell_type": "code",
   "execution_count": 8,
   "id": "54a45460",
   "metadata": {},
   "outputs": [
    {
     "name": "stdout",
     "output_type": "stream",
     "text": [
      "Number of tokens: 3109\n",
      "\n",
      "\n",
      "['Sheldon', ',', 'you', \"'re\", 'wrong', '.', 'Wolverine', 'was', 'not', 'born', 'with', 'bone', 'claws', '.', 'Howard', ',', 'you', 'know', 'me', 'to', 'be', 'a', 'very', 'smart', 'man', '.', 'Do', \"n't\", 'you', 'think', 'if', 'I', 'were', 'wrong', ',', 'I', \"'d\", 'know', 'it', '?', '-', 'First', 'of', 'all', '-', '-', 'Give', 'it', 'up', '.', 'You', \"'re\", 'arguing', 'with', 'a', 'crazy', 'person', '.', 'I', \"'m\", 'not', 'crazy', '.', 'My', 'mother', 'had', 'me', 'tested', '.', '-', 'Hey', ',', 'guys', '.', '-', 'What', 'are', 'you', 'doing', 'here', '?', 'What', '?', 'It', \"'s\", 'new-comic-book', 'night', '.', 'Since', 'you', 'and', 'Penny', 'hooked', 'up', 'we', 'thought', 'you', 'two', 'would', 'be', 'having', 'bouncy', 'naked', 'yum-yum', 'night', '.', 'There', \"'s\", 'more', 'to', 'life', 'than', 'sex', ',', 'Raj', '.', 'Who', 'had', 'Leonard', 'flames', 'out', 'in', '24', 'hours', '?', 'I', 'did', '.', 'Nothing', 'flamed', 'out', '.', 'We', 'do', \"n't\", 'have', 'to', 'have', 'sex', 'every', 'night', '.', 'You', 'do', \"n't\", 'have', 'to', ',', 'but', 'it', \"'s\", 'highly', 'recommended', '.', 'Take', 'advantage', 'of', 'that', 'window', 'of', 'opportunity', 'before', 'it', 'slams', 'shut', 'on', 'your', 'little', 'dinky', '.', 'It', \"'s\", 'not', 'a', 'matter', 'of', 'opportunity', '.', 'We', \"'re\", 'getting', 'to', 'know', 'each', 'other', '.', 'There', \"'s\", 'a', 'learning', 'curve', '.', 'What', \"'s\", 'to', 'learn', '?', 'You', 'get', 'naked', ',', 'do', 'nasty', 'things', '.', 'Then', 'somebody', 'makes', 'scrambled', 'eggs', 'and', 'salami', '.', 'Easy-peasy', '.', 'Perhaps', 'what', 'Leonard', 'is', 'obliquely', 'referring', 'to', 'is', 'the', 'occurrence', 'of', 'sexual', 'dysfunction', '.', 'Okay', ',', 'who', 'had', 'Leonard', 'gets', 'a', 'floppy', 'disk', '?', 'Oh', '.', 'A', 'clever', ',', 'albeit', 'obsolete', ',', 'euphemism', 'for', 'insufficient', 'blood', 'flow', 'to', 'the', 'male', 'sex', 'organ', '.', 'Nothing', 'like', 'that', 'happened', ',', 'all', 'right', '?', 'The', 'sex', 'was', 'just', 'fine', '.', 'Just', 'fine', '?', 'Oh', ',', 'dude', ',', 'the', 'fourth', 'Harry', 'Potter', 'movie', 'was', 'just', 'fine', '.', 'I', \"'m\", 'not', 'saying', 'it', 'was', 'bad', '.', 'I', \"'m\", 'just', 'saying', 'it', 'was', \"n't\", 'great', '.', 'Okay', ',', 'you', 'mean', 'for', 'both', 'of', 'you', '?', 'Because', 'we', 'can', 'totally', 'see', 'it', 'not', 'being', 'great', 'for', 'her', '.', 'Am', 'I', 'right', '?', 'To', 'tell', 'you', 'the', 'truth', ',', 'I', 'think', 'we', 'were', 'both', 'a', 'little', '-', 'I', 'do', \"n't\", 'know', '-', '-', 'Disappointed', '?', 'Let', 'down', '?', '-', 'Ashamed', '?', 'Horrified', '?', 'Repulsed', '?', 'All', 'I', 'know', 'is', 'it', 'was', \"n't\", 'the', 'way', 'I', 'dreamed', 'it', 'would', 'be', '.', 'Sex', 'is', 'never', 'the', 'way', 'I', 'dream', 'it', \"'s\", 'gon', 'na', 'be', '.', 'That', \"'s\", 'because', 'in', 'your', 'dreams', ',', 'you', \"'re\", 'a', 'horse', 'from', 'the', 'waist', 'down', '.', 'Excuse', 'me', ',', 'Wolverine', ':', 'Origin', 'Miniseries', 'Issue', '2', ',', 'page', '22', '.', 'Retractable', 'bone', 'claws', '.', 'If', 'you', 'spent', 'less', 'time', 'thinking', 'about', 'sex', 'and', 'more', 'time', 'on', 'comic', 'books', 'we', \"'d\", 'have', 'far', 'fewer', 'of', 'these', 'embarrassing', 'moments', '.', 'Sheldon', ',', 'dinner', \"'s\", 'here', '.', 'Tandoori', 'Palace', '?', 'No', ',', 'we', 'went', 'somewhere', 'new', '.', 'You', \"'re\", 'good-naturedly', 'ribbing', 'me', ',', 'are', \"n't\", 'you', '?', 'No', ',', 'look', ',', 'Mumbai', 'Palace', '.', 'Why', '?', 'Why', 'would', 'we', 'change', '?', 'We', 'had', 'a', 'perfectly', 'good', 'palace', '.', 'Tandoori', 'Palace', 'is', 'our', 'palace', '.']\n"
     ]
    }
   ],
   "source": [
    "print(\"Number of tokens:\",len(word_tokenize(data_raw_text)))\n",
    "print(\"\\n\")\n",
    "words = word_tokenize(data_raw_text)\n",
    "print(word_tokenize(data_raw_text)[:500])"
   ]
  },
  {
   "cell_type": "code",
   "execution_count": 9,
   "id": "a6c8e1cf",
   "metadata": {
    "scrolled": true
   },
   "outputs": [],
   "source": [
    "formated_en_text = nltk.Text(words)"
   ]
  },
  {
   "cell_type": "code",
   "execution_count": 10,
   "id": "b0d8b708",
   "metadata": {
    "scrolled": true
   },
   "outputs": [
    {
     "data": {
      "text/plain": [
       "3109"
      ]
     },
     "execution_count": 10,
     "metadata": {},
     "output_type": "execute_result"
    }
   ],
   "source": [
    "len(formated_en_text)"
   ]
  },
  {
   "cell_type": "markdown",
   "id": "06a6c5bf",
   "metadata": {},
   "source": [
    "### Exporation \n"
   ]
  },
  {
   "cell_type": "markdown",
   "id": "1cb8a6d6",
   "metadata": {},
   "source": [
    "### Objectifs : \n",
    "- Determier  qualificatifs principaux attribués au personnage de Sheldon Cooper..\n",
    "- Spécifier combien de caractères apparaissent dans le texte. \n",
    "- Determiner la relation entre les caracteres.\n",
    "- Determiner quels animaux sont mentionnés la plus souvent cité dans ce text "
   ]
  },
  {
   "cell_type": "code",
   "execution_count": 11,
   "id": "5fb42371",
   "metadata": {},
   "outputs": [
    {
     "name": "stdout",
     "output_type": "stream",
     "text": [
      "[('.', 290), (',', 128), ('I', 90), ('?', 90), ('you', 78), ('-', 66), ('a', 53), ('the', 53), ('to', 48), (\"'s\", 45), (\"n't\", 41), ('it', 38), ('of', 35), ('that', 32), ('and', 31), ('was', 28), ('me', 28), ('is', 28), ('``', 26), ('do', 25), ('What', 24), ('in', 22), (\"'re\", 20), ('not', 19), ('cricket', 19), ('with', 18), (\"'m\", 17), ('know', 16), ('be', 16), ('for', 16), ('You', 15), ('we', 14), ('on', 14), ('are', 13), ('Leonard', 13), ('your', 13), ('just', 13), ('my', 13), ('It', 12), ('have', 12), ('Oh', 12), ('can', 12), ('this', 12), ('We', 11), ('what', 11), ('about', 11), ('would', 10), ('Okay', 10), ('right', 10), ('No', 10), ('up', 9), ('an', 9), ('Toby', 9), ('wrong', 8), ('here', 8), ('night', 8), ('Penny', 8), ('sex', 8), ('like', 8), ('fine', 8), ('na', 8), ('That', 8), ('chicken', 8), ('Do', 7), ('had', 7), ('The', 7), ('Let', 7), ('them', 7), ('Sheldon', 6), ('Just', 6), ('down', 6), ('gon', 6), ('from', 6), ('Why', 6), (\"'ve\", 6), ('really', 6), ('ca', 6), ('name', 6), ('friends', 6), ('were', 5), (\"'d\", 5), ('Hey', 5), ('life', 5), ('out', 5), ('saying', 5), ('mean', 5), ('being', 5), ('tell', 5), ('All', 5), ('time', 5), ('So', 5), ('Yeah', 5), ('go', 5), ('got', 5), ('something', 5), ('one', 5), ('take', 5), ('tree', 5), ('could', 5), ('field', 5)]\n"
     ]
    }
   ],
   "source": [
    "\n",
    "## la méthode vocab permet d'obtenir pour chaque terme présent dans \n",
    "##la liste text nltk, le nombre d'occurence des termes\n",
    "\n",
    "## ici on crée le dictionnaire fdist\n",
    "\n",
    "def frequency_words(text):\n",
    "    \n",
    "    fdist = text.vocab()\n",
    "\n",
    "    list(fdist.items())\n",
    "\n",
    "    return sorted(fdist.items(), key=lambda item: item[1], reverse=True)\n",
    "\n",
    "print(frequency_words(formated_en_text)[:100])\n"
   ]
  },
  {
   "cell_type": "markdown",
   "id": "92b579d2",
   "metadata": {},
   "source": [
    "Il y a plusieur des conversation, en particulier concernant à les questions (avec les fréquences élevés 90 pour '?')"
   ]
  },
  {
   "cell_type": "markdown",
   "id": "6bfe9449",
   "metadata": {},
   "source": [
    "#### Distribution des fréquences\n",
    "La distribution des fréquences des mots, pour le texte  qui a été formate."
   ]
  },
  {
   "cell_type": "code",
   "execution_count": 12,
   "id": "f2e15b40",
   "metadata": {},
   "outputs": [
    {
     "data": {
      "text/plain": [
       "FreqDist({'.': 290, ',': 128, 'I': 90, '?': 90, 'you': 78, '-': 66, 'a': 53, 'the': 53, 'to': 48, \"'s\": 45, ...})"
      ]
     },
     "execution_count": 12,
     "metadata": {},
     "output_type": "execute_result"
    }
   ],
   "source": [
    "freqdist = FreqDist(formated_en_text)\n",
    "freqdist"
   ]
  },
  {
   "cell_type": "code",
   "execution_count": 13,
   "id": "60b1c0e4",
   "metadata": {},
   "outputs": [
    {
     "data": {
      "image/png": "[encoded data removed]",
      "text/plain": [
       "<Figure size 432x288 with 1 Axes>"
      ]
     },
     "metadata": {
      "needs_background": "light"
     },
     "output_type": "display_data"
    },
    {
     "data": {
      "text/plain": [
       "<AxesSubplot:title={'center':'Distribution des fréquences des mots dans le texte'}, xlabel='Samples', ylabel='Cumulative Counts'>"
      ]
     },
     "execution_count": 13,
     "metadata": {},
     "output_type": "execute_result"
    }
   ],
   "source": [
    "freqdist.plot(30, cumulative=True,\n",
    "            title=\"Distribution des fréquences des mots dans le texte\")"
   ]
  },
  {
   "cell_type": "markdown",
   "id": "bb7fff20",
   "metadata": {},
   "source": [
    "Parce que le text est écrit sous forme anglais donc que on va afficher un dictionaire qui contient les fréquences (ordonnées par ordre décroissant) de tous mots sauf les stopwords (en version anglais) et la ponctuation "
   ]
  },
  {
   "cell_type": "code",
   "execution_count": 14,
   "id": "ad8934d9",
   "metadata": {},
   "outputs": [
    {
     "name": "stdout",
     "output_type": "stream",
     "text": [
      "['Sheldon', \"'re\", 'wrong', 'Wolverine', 'born', 'bone', 'claws', 'Howard', 'know', 'smart', 'man', 'Do', \"n't\", 'think', 'I', 'wrong', 'I', \"'d\", 'know', 'First', 'Give', 'You', \"'re\", 'arguing', 'crazy', 'person', 'I', \"'m\", 'crazy', 'My', 'mother', 'tested', 'Hey', 'guys', 'What', 'What', 'It', \"'s\", 'new-comic-book', 'night', 'Since', 'Penny', 'hooked', 'thought', 'two', 'would', 'bouncy', 'naked', 'yum-yum', 'night', 'There', \"'s\", 'life', 'sex', 'Raj', 'Who', 'Leonard', 'flames', '24', 'hours', 'I', 'Nothing', 'flamed', 'We', \"n't\", 'sex', 'every', 'night', 'You', \"n't\", \"'s\", 'highly', 'recommended', 'Take', 'advantage', 'window', 'opportunity', 'slams', 'shut', 'little', 'dinky', 'It', \"'s\", 'matter', 'opportunity', 'We', \"'re\", 'getting', 'know', 'There', \"'s\", 'learning', 'curve', 'What', \"'s\", 'learn', 'You', 'get', 'naked', 'nasty']\n"
     ]
    }
   ],
   "source": [
    "from nltk.corpus import stopwords\n",
    "from string import punctuation\n",
    "\n",
    "non_desired_tokens = stopwords.words(\"english\") + [\"[\",\"]\",\"(\",\")\",',','.',\"--\", '?','*','...','-',\"``\"]\n",
    "\n",
    "words_desired = [w for w in word_tokenize(data_raw_text) if w not in non_desired_tokens]\n",
    "\n",
    "print(words_desired[:100])"
   ]
  },
  {
   "cell_type": "markdown",
   "id": "1ac6ff1d",
   "metadata": {},
   "source": [
    "### Découpage en phrases ensuite en mots"
   ]
  },
  {
   "cell_type": "markdown",
   "id": "28363c52",
   "metadata": {},
   "source": [
    "C'est-à-dire en redécoupant chaque phrase en mots."
   ]
  },
  {
   "cell_type": "code",
   "execution_count": 15,
   "id": "345dc456",
   "metadata": {},
   "outputs": [
    {
     "name": "stdout",
     "output_type": "stream",
     "text": [
      "[['Sheldon', ',', 'you', \"'re\", 'wrong', '.'], ['Wolverine', 'was', 'not', 'born', 'with', 'bone', 'claws', '.'], ['Howard', ',', 'you', 'know', 'me', 'to', 'be', 'a', 'very', 'smart', 'man', '.'], ['Do', \"n't\", 'you', 'think', 'if', 'I', 'were', 'wrong', ',', 'I', \"'d\", 'know', 'it', '?'], ['-', 'First', 'of', 'all', '-', '-', 'Give', 'it', 'up', '.'], ['You', \"'re\", 'arguing', 'with', 'a', 'crazy', 'person', '.']]\n"
     ]
    }
   ],
   "source": [
    "word_sent = [word_tokenize(s) for s in sentences]\n",
    "print(word_sent[:6])"
   ]
  },
  {
   "cell_type": "markdown",
   "id": "7e8942d0",
   "metadata": {},
   "source": [
    "## Part-Of-Speech Tagging (POS Tagging)"
   ]
  },
  {
   "cell_type": "markdown",
   "id": "bc7976f8",
   "metadata": {},
   "source": [
    "Pos tagging pour les phrases en utilisant la fonction nltk.pos_tag_sents sur le object"
   ]
  },
  {
   "cell_type": "code",
   "execution_count": 16,
   "id": "4d8476e2",
   "metadata": {},
   "outputs": [
    {
     "name": "stderr",
     "output_type": "stream",
     "text": [
      "[nltk_data] Downloading package averaged_perceptron_tagger to\n",
      "[nltk_data]     /home/tranquochung/nltk_data...\n",
      "[nltk_data]   Package averaged_perceptron_tagger is already up-to-\n",
      "[nltk_data]       date!\n",
      "[nltk_data] Downloading package universal_tagset to\n",
      "[nltk_data]     /home/tranquochung/nltk_data...\n",
      "[nltk_data]   Package universal_tagset is already up-to-date!\n"
     ]
    },
    {
     "data": {
      "text/plain": [
       "True"
      ]
     },
     "execution_count": 16,
     "metadata": {},
     "output_type": "execute_result"
    }
   ],
   "source": [
    "nltk.download('averaged_perceptron_tagger')\n",
    "nltk.download('universal_tagset')"
   ]
  },
  {
   "cell_type": "code",
   "execution_count": 17,
   "id": "6df9fa2d",
   "metadata": {},
   "outputs": [],
   "source": [
    "def POS_words(type , tagset):\n",
    "    \n",
    "    words  = []\n",
    "    \n",
    "    pos_tag_sents = nltk.pos_tag_sents(word_sent, tagset=tagset)\n",
    "    for pos_tag_sent in  pos_tag_sents:\n",
    "        for id in range(0,len(pos_tag_sent)):\n",
    "            if (pos_tag_sent[id][1] == type):\n",
    "                words.append(pos_tag_sent[id][0].lower())\n",
    "    \n",
    "    return set(words)"
   ]
  },
  {
   "cell_type": "code",
   "execution_count": 18,
   "id": "9b6b1968",
   "metadata": {
    "scrolled": true
   },
   "outputs": [
    {
     "name": "stdout",
     "output_type": "stream",
     "text": [
      "{'flashlight', 'jiminy', 'texas', 'easy-peasy', 'come', 'ahh', 'silver', 'gryllus', 'latin', 'mumbai', 'raj', 'aah', 'take', 'sheldon', 'guide', 'entomology', 'wolverine', 'leonard', 'interesting', 'dolbear', 'are', 'okay-dokay', 'holy', 'cruel', 'insects', 'east', 'cooper', 'trust', 'hey', 'oecanthus', 'flash', 'creepy', 'surfer', 'professor', 'morse', 'great', 'potter', 'shiksa', 'ooh', 'physics', 'ha-ha', 'young', 'number', 'toby', 'enjoy', 'field', 'howard', 'wii', 'fair', 'emile', 'peppermint', 'kleingast', 'schnapps', 'voilá.', 'ladybugs', 'mrs.', 'k.', 'old', 'riley', 'crawley', 'ironic', 'hang', 'hallway', 'worlds', 'stairwell', 'delhi', 'four', 'penny', 'tandoori', 'hello', 'ask', 'palace', 'okay', 'fine', 'issue', 'oxnard', 'bornean', 'department', 'god', 'told', 'lambs', 'new', 'hmm', 'harry', 'dude', 'silence', 'dr.', 'wolowitz', 'north'}\n"
     ]
    }
   ],
   "source": [
    "###  to find how many personnages qui sont contients dans les text\n",
    "\n",
    "proper_noun_wds = POS_words('NNP', \"\")\n",
    "print(proper_noun_wds)\n",
    "characters = ['ShelDon', 'Leonard', 'Emile', 'Penny', 'Crawley', 'Howard', 'Cooper']"
   ]
  },
  {
   "cell_type": "markdown",
   "id": "3e9920ef",
   "metadata": {},
   "source": [
    "il y des caractères mentionées dans ce text: \n",
    "\n",
    "- ShelDon Cooper\n",
    "\n",
    "- Creepy Crawley\n",
    "\n",
    "- Emile Dolbear\n",
    "\n",
    "- Leonard\n",
    "\n",
    "- Penny\n",
    "\n",
    "- Howard\n"
   ]
  },
  {
   "cell_type": "code",
   "execution_count": 19,
   "id": "01714157",
   "metadata": {},
   "outputs": [
    {
     "name": "stdout",
     "output_type": "stream",
     "text": [
      "{'me', 'them', \"'s\", 'itself', 'you', 'yourself', 'i', 'he', 'it', 'him', 'us', 'they', 'we'}\n",
      "('me', 28)\n",
      "('them', 7)\n",
      "(\"'s\", 45)\n",
      "('itself', 2)\n",
      "('you', 78)\n",
      "('yourself', 2)\n",
      "('he', 1)\n",
      "('it', 38)\n",
      "('him', 2)\n",
      "('us', 1)\n",
      "('they', 4)\n",
      "('we', 14)\n"
     ]
    }
   ],
   "source": [
    "personal_pronoun_wds = POS_words('PRP', \"\")\n",
    "print(personal_pronoun_wds)\n",
    "\n",
    "for v in personal_pronoun_wds :\n",
    "    for frc_w in frequency_words(formated_en_text):\n",
    "        if (v == frc_w[0]):\n",
    "            print(frc_w)"
   ]
  },
  {
   "cell_type": "markdown",
   "id": "24c8cfb8",
   "metadata": {},
   "source": [
    "Afficher le contexte avec le caractère spécifié"
   ]
  },
  {
   "cell_type": "code",
   "execution_count": 20,
   "id": "ddec507b",
   "metadata": {
    "scrolled": true
   },
   "outputs": [
    {
     "name": "stdout",
     "output_type": "stream",
     "text": [
      "Displaying 6 of 6 matches:\n",
      " Sheldon , you 're wrong . Wolverine was not\n",
      "wer of these embarrassing moments . Sheldon , dinner 's here . Tandoori Palace \n",
      "y manipulate you ? Do n't push me , Sheldon . I may be small , but I took kung \n",
      " For example , Jiminy . All right , Sheldon , here we go . Kleingast 's Field G\n",
      " forward to having you . Oh , hey , Sheldon . What you got there ? New comic bo\n",
      "res ? - Oh , hey . - Hey , what did Sheldon say to you ? Not a lot . That we al\n",
      "None\n",
      "\n",
      "\n",
      "Displaying 13 of 13 matches:\n",
      "re to life than sex , Raj . Who had Leonard flames out in 24 hours ? I did . No\n",
      " salami . Easy-peasy . Perhaps what Leonard is obliquely referring to is the oc\n",
      "sexual dysfunction . Okay , who had Leonard gets a floppy disk ? Oh . A clever \n",
      "errible . As I was saying , you and Leonard had a disappointing sexual encounte\n",
      " encounter . Earlier this evening , Leonard characterized it as , `` Just fine.\n",
      "em . Whatever , dude . The point is Leonard 's got one and you do n't . Is this\n",
      "t ? It was inappropriate to discuss Leonard and Penny 's sex life in front of L\n",
      "d and Penny 's sex life in front of Leonard and Penny . Good . Now I can eat . \n",
      " fun to say `` schnapps. `` - Hey , Leonard ? - What ? Schnapps . Schnapps . Yo\n",
      "and I 'm upset about something with Leonard . Yes , the disappointing sex . Tha\n",
      "at 's an inexact parallel . You and Leonard can always return to being friends \n",
      " no . You may be right about me and Leonard . Well , of course I 'm right . Wha\n",
      "alked to Penny about our sex life ? Leonard , it astonishes me how you continua\n",
      "None\n",
      "\n",
      "\n",
      "Displaying 1 of 1 matches:\n",
      "d you possibly know that ? In 1890 , Emile Dolbear determined there was a fixed\n",
      "None\n",
      "\n",
      "\n",
      "Displaying 8 of 8 matches:\n",
      "new-comic-book night . Since you and Penny hooked up we thought you two would b\n",
      "airplane headed for a mountainside . Penny , wait . Aah . What is wrong with yo\n",
      "inappropriate to discuss Leonard and Penny 's sex life in front of Leonard and \n",
      " 's sex life in front of Leonard and Penny . Good . Now I can eat . - What 's t\n",
      " now ? That ca n't be very popular . Penny , I 'd rather not talk about it . We\n",
      "eposit box . I was forced to talk to Penny about your sexual problems . And , o\n",
      "witz . Wait a minute . You talked to Penny about our sex life ? Leonard , it as\n",
      "itz . - You 're saying you talked to Penny ? - Yes . - Interesting . - Hardly .\n",
      "None\n",
      "\n",
      "\n",
      "Displaying 5 of 5 matches:\n",
      "mology Department and let Professor Crawley tell us what kind of cricket Toby i\n",
      "tle ? Excuse me , are you Professor Crawley ? Who wants to know ? I 'm Dr. Coop\n",
      "cricket . - Yes . - No , wait . Dr. Crawley , are you sure ? Young man , I 've \n",
      " used to call me in school ? Creepy Crawley . Cruel as that may be , that is no\n",
      "ou something . See that ? That 's a Crawley 's dung beetle . I discovered it af\n",
      "None\n",
      "\n",
      "\n",
      "Displaying 3 of 3 matches:\n",
      "rine was not born with bone claws . Howard , you know me to be a very smart ma\n",
      "t you 're wrong about the cricket . Howard , do n't embarrass yourself . The s\n",
      " feeling upset about something with Howard and I 'm upset about something with\n",
      "None\n",
      "\n",
      "\n",
      "Displaying 1 of 1 matches:\n",
      "wley ? Who wants to know ? I 'm Dr. Cooper , from the Physics Department . - C\n",
      "None\n",
      "\n",
      "\n"
     ]
    }
   ],
   "source": [
    "for character in characters:\n",
    "    print(formated_en_text.concordance(character))\n",
    "    print(\"\\n\")"
   ]
  },
  {
   "cell_type": "markdown",
   "id": "7ec2e4c7",
   "metadata": {},
   "source": [
    "Grâce au contexte susmentionné, Sheldon Cooper est un scientifique(ou un physicien) (le phase \"I 'm Dr. Cooper , from the Physics Department\"). \n",
    "\n",
    "Leonard et Penny pourraient être en couple car on peut voir le phase que \"Leonard and Penny 's sex life\"\n",
    "\n",
    "Howard, Sheldon and Leonard, on peut en déduire que ces personnes peuvent être des amis proches en oberservant leur façon de parler et le nombre d'occurrences de pronoms personnels mots est élevé comme (you,78) ou (we , 11)\n",
    "\n",
    "Crawley est un professeur d'un école"
   ]
  },
  {
   "cell_type": "markdown",
   "id": "460ef728",
   "metadata": {},
   "source": [
    "## Lemmatization\n",
    "\n",
    "La lemmatisation (ou lemmatisation) en linguistique est le processus de regroupement des formes fléchies d'un mot afin qu'elles puissent être analysées comme un seul élément, identifié par le lemme du mot ou la forme du dictionnaire\n",
    "\n",
    "Pour exercise, on va voir quels mots principaux utilisés sous forms NOUN, VERB et ADJECTIVE dans le text ."
   ]
  },
  {
   "cell_type": "code",
   "execution_count": 23,
   "id": "333079aa",
   "metadata": {},
   "outputs": [],
   "source": [
    "pos_tag_s = nltk.pos_tag_sents(word_sent)"
   ]
  },
  {
   "cell_type": "code",
   "execution_count": 24,
   "id": "28c1e3bb",
   "metadata": {},
   "outputs": [
    {
     "name": "stderr",
     "output_type": "stream",
     "text": [
      "[nltk_data] Downloading package wordnet to\n",
      "[nltk_data]     /home/tranquochung/nltk_data...\n",
      "[nltk_data]   Package wordnet is already up-to-date!\n",
      "[nltk_data] Downloading package omw-1.4 to\n",
      "[nltk_data]     /home/tranquochung/nltk_data...\n",
      "[nltk_data]   Package omw-1.4 is already up-to-date!\n"
     ]
    },
    {
     "data": {
      "text/plain": [
       "True"
      ]
     },
     "execution_count": 24,
     "metadata": {},
     "output_type": "execute_result"
    }
   ],
   "source": [
    "from nltk.stem.wordnet import WordNetLemmatizer\n",
    "nltk.download('wordnet')\n",
    "nltk.download('omw-1.4')"
   ]
  },
  {
   "cell_type": "code",
   "execution_count": 25,
   "id": "cdc1d53d",
   "metadata": {},
   "outputs": [],
   "source": [
    "lemmatizer = WordNetLemmatizer()"
   ]
  },
  {
   "cell_type": "code",
   "execution_count": 26,
   "id": "78e85d1e",
   "metadata": {
    "scrolled": true
   },
   "outputs": [
    {
     "name": "stdout",
     "output_type": "stream",
     "text": [
      "{'proceed', \"'ll\", 'circle', 'name', 'admit', 'capture', 'come', 'retrieve', 'flame', 'polite', 'knock', 'astonish', 'put', 'render', 'show', 'stake', 'take', 'understand', 'keep', 'lose', 'open', 'do', 'climb', 'use', 'empathy', \"'re\", 'fine.', 'tree', 'seem', 'believe', 'give', 'lose.', 'discover', 'disappoint', 'could', 'pray', 'call', 'lead', 'mean', 'sense', 'din', 'rock', 'tell', 'force', 'wish', 'move', 'wonder', 'rib', 'follow', 'hold', 'learn', 'identify', 'need', 'eat', 'would', \"'ve\", 'lessen', 'help', 'manipulate', 'test', 'goeth', 'refer', 'study', 'hit', 'adjourn', 'establish', 'slog', 'wan', \"'s\", 'grow', 'say', 'know', 'discuss', 'find', 'figure', 'wear', 'freak', 'get', 'stick', \"'m\", 'examine', 'bangalore', 'base', 'happen', 'dream', 'joke', 'live', 'reuptake', 'pack', 'mount', 'want', 'must', 'forget', 'overreact', 'feel', 'settle', 'talk', 'argue', 'start', 'chase', 'characterize', 'speak', 'have', 'return', 'drink', 'remember', 'upset', 'horrify', 'throw', 'fixate', 'scramble', 'buy', 'bear', 'agree', 'repulse', 'care', 'see', 'noogies', 'like', 'ca', 'fill', 'cross', 'own', 'spend', 'disgust', 'head', 'gon', 'shack', 'be', 'think', 'wait', 'chicken', 'outsource', 'measure', 'penny', 'naked', 'forfeit', 'misunderstand', 'should', 'ask', 'push', 'best', 'suck', 'will', 'go', \"'d\", 'can', 'make', 'determine', 'cause', 'bother', 'embarrass', 'may', 'bet', 'slam', 'look', 'suppose'}\n"
     ]
    }
   ],
   "source": [
    "verbs = POS_words('VERB',\"universal\")\n",
    "\n",
    "lem_verb = []\n",
    "for v in verbs :\n",
    "    lem_verb.append(lemmatizer.lemmatize(v,'v'))\n",
    "    \n",
    "print(set(lem_verb[:200]))"
   ]
  },
  {
   "cell_type": "code",
   "execution_count": 27,
   "id": "46cf384a",
   "metadata": {},
   "outputs": [
    {
     "name": "stdout",
     "output_type": "stream",
     "text": [
      "{'flashlight', 'texas', 'school', 'specie', 'easy-peasy', 'planet', 'name', 'swirlies', 'thermostat', 'come', 'origin', 'page', 'time', 'ahh', 'woman', 'lab', 'tramp', 'night', 'week', 'mumbai', 'cardboard', 'appearance', 'sheldon', 'guide', 'take', 'entomology', 'dolbear', 'are', 'okay-dokay', 'thank', 'day', 'sweaty', 'deal', 'holy', 'forest', 'nerve', 'ashamed', 'temperature', 'advantage', 'arachnid', 'tree', 'bit', 'cruel', 'male', 'sort', 'dung', 'receptor', 'safe-deposit', 'friend', 'hey', 'box', 'man', 'authority', 'wager', 'could', 'please', 'control', 'oecanthus', 'flash', 'miniseries', 'flow', 'rock', 'bug', 'way', 'onion', 'surfer', 'guy', 'sound', 'fun', 'north', 'airplane', 'roommate', 'professor', 'people', 'morse', 'salami', 'goddess', 'room', 'job', 'great', 'confrontation', 'liquor', 'world', 'encounter', 'right', 'shiksa', 'shaft', 'parallel', 'disk', 'daughter', 'expert', 'ooh', 'label', 'bone', 'ha-ha', 'funding', 'genus', 'pride', 'beach', 'fiasco', 'kung', 'walk', 'kind', 'young', 'resonance', 'number', 'edge', 'toby', 'nothing', 'rain', 'dream', 'joke', 'enjoy', 'fu', 'field', 'stimulates', 'cricket', 'howard', 'childhood', 'fair', 'credential', 'relationship', 'wenteth', 'neurotransmitter', 'emile', 'bouncy', 'talk', 'claw', 'peppermint', 'curve', 'schnapps', 'ofthe', 'voilá.', 'first', 'congratulation', 'drink', 'possession', 'thing', 'entomologist', 'discomfort', 'year', 'term', 'truth', 'snowy', 'mocking', 'dut-dut-dut-dut', 'life', 'riley', 'battery', 'old', 'dut', 'university', 'crawley', 'question', 'code', 'dinner', 'oh', 'hang', 'book', 'pressure', 'hallway', 'lot', 'chicken', 'stairwell', 'four', 'event', 'delhi', 'sailboat', 'mother', 'penny', 'tandoori', 'everything', 'hello', 'insect', 'something', 'wine', 'girl', 'okay', 'sister', 'hour', 'bornean', 'money', 'slur', 'department', 'laser', 'told', 'moment', 'hmm', 'rhythm', 'neighbor', 'harry', 'doctorate', 'dr.', 'ahem', 'yeah', 'godless'}\n"
     ]
    }
   ],
   "source": [
    "nouns = POS_words('NOUN',\"universal\")\n",
    "\n",
    "lem_noun = []\n",
    "for n in nouns :\n",
    "    lem_noun.append(lemmatizer.lemmatize(n,'n'))\n",
    "    \n",
    "print(set(lem_noun[:200]))"
   ]
  },
  {
   "cell_type": "code",
   "execution_count": 28,
   "id": "55affbee",
   "metadata": {},
   "outputs": [
    {
     "name": "stdout",
     "output_type": "stream",
     "text": [
      "{'nihil', 'present', 'schnapps.', 'hot', 'contentious', 'retractable', 'crazy', 'classic', 'two-bit', 'terrible', 'little', 'welcome', 'good', 'big', 'last', 'popular', 'world-renowned', 'safe-deposit', 'inhibitory', 'good-naturedly', 'carnal', 'yum-yum', 'few', 'learning', 'careful', 'uncomfortable', 'other', 'electrical', 'stupid', 'sweetie', 'biblical', 'horrible', 'shiksi', 'eat', 'nasty', 'ill-considered', 'dark', 'great', 'less', 'fifth', 'much', 'physical', 'fricking', 'right', 'empty', 'disappointing', 'loose', 'comic', 'nothing.', 'precise', 'floppy', 'more', 'smart', 'inappropriate', 'half-hour', 'young', 'indian', 'mad', 'ethyl', 'sexual', 'obsolete', 'sure', 'peppermint', 'first', 'ordinary', 'gamma-aminobutyric', 'fixed', 'appropriate', 'new-comic-book', 'fourth', 'upset', 'catatonic', 'willing', 'such', 'ambient', 'snowy', 'afraid', 'old', 'like', 'nonpathetic', 'absurd', 'gon', 'humorous', 'american', 'aware', 'inexact', 'small', 'naked', 'bad', 'many', 'wine', 'okay', 'wrong', 'actual', 'fine', 'fantastic', 'past', 'new', 'rhetorical', 'boot-cut', 'insufficient', 'embarrassed', 'dokay', 'common', 'sorry'}\n"
     ]
    }
   ],
   "source": [
    "adjs = POS_words('ADJ',\"universal\")\n",
    "\n",
    "lem_adj = []\n",
    "\n",
    "for adj in adjs :\n",
    "    lem_adj.append(lemmatizer.lemmatize(adj,'a'))\n",
    "    \n",
    "print(set(lem_adj[:200]))"
   ]
  },
  {
   "cell_type": "markdown",
   "id": "4e19fa1b",
   "metadata": {},
   "source": [
    "### Reconnaissance d’entités nommées"
   ]
  },
  {
   "cell_type": "code",
   "execution_count": 29,
   "id": "7c03952d",
   "metadata": {},
   "outputs": [
    {
     "name": "stderr",
     "output_type": "stream",
     "text": [
      "[nltk_data] Downloading package punkt to\n",
      "[nltk_data]     /home/tranquochung/nltk_data...\n",
      "[nltk_data]   Package punkt is already up-to-date!\n",
      "[nltk_data] Downloading package averaged_perceptron_tagger to\n",
      "[nltk_data]     /home/tranquochung/nltk_data...\n",
      "[nltk_data]   Package averaged_perceptron_tagger is already up-to-\n",
      "[nltk_data]       date!\n",
      "[nltk_data] Downloading package maxent_ne_chunker to\n",
      "[nltk_data]     /home/tranquochung/nltk_data...\n",
      "[nltk_data]   Package maxent_ne_chunker is already up-to-date!\n",
      "[nltk_data] Downloading package words to\n",
      "[nltk_data]     /home/tranquochung/nltk_data...\n",
      "[nltk_data]   Package words is already up-to-date!\n"
     ]
    },
    {
     "data": {
      "text/plain": [
       "True"
      ]
     },
     "execution_count": 29,
     "metadata": {},
     "output_type": "execute_result"
    }
   ],
   "source": [
    "#  Import nltk and download necessary packages\n",
    " \n",
    "import nltk\n",
    "nltk.download('punkt')\n",
    "nltk.download('averaged_perceptron_tagger')\n",
    "nltk.download('maxent_ne_chunker')\n",
    "nltk.download('words')\n"
   ]
  },
  {
   "cell_type": "markdown",
   "id": "1304f746",
   "metadata": {},
   "source": [
    "Les entités nommées sont des noms propres qui font référence à des entités spécifiques qui peuvent être une personne, une organisation, un lieu, une date, etc. \n",
    "\n"
   ]
  },
  {
   "cell_type": "markdown",
   "id": "38448072",
   "metadata": {},
   "source": []
  },
  {
   "cell_type": "code",
   "execution_count": 30,
   "id": "2613913e",
   "metadata": {
    "scrolled": true
   },
   "outputs": [],
   "source": [
    "# Tokenise, find parts of speech and chunk words \n",
    "\n",
    "categorical_wdrs = {}\n",
    "\n",
    "for i in range(len(nltk.pos_tag_sents(word_sent))):\n",
    "      for chunk in nltk.ne_chunk(nltk.pos_tag_sents(word_sent)[i]):\n",
    "         if hasattr(chunk, 'label'):\n",
    "            stri = \"\"\n",
    "            for c in chunk: \n",
    "                stri += c[0] + \" \"    \n",
    "            categorical_wdrs.update({stri : chunk.label() })"
   ]
  },
  {
   "cell_type": "code",
   "execution_count": 31,
   "id": "85861554",
   "metadata": {
    "scrolled": false
   },
   "outputs": [
    {
     "data": {
      "text/plain": [
       "{'Sheldon ': 'PERSON',\n",
       " 'Wolverine ': 'PERSON',\n",
       " 'Howard ': 'PERSON',\n",
       " 'Hey ': 'PERSON',\n",
       " 'Raj ': 'GPE',\n",
       " 'Leonard ': 'PERSON',\n",
       " 'Nothing ': 'GPE',\n",
       " 'Take ': 'GPE',\n",
       " 'Okay ': 'GPE',\n",
       " 'Harry Potter ': 'PERSON',\n",
       " 'Ashamed ': 'PERSON',\n",
       " 'Sex ': 'GPE',\n",
       " 'Retractable ': 'GPE',\n",
       " 'Tandoori ': 'PERSON',\n",
       " 'Palace ': 'ORGANIZATION',\n",
       " 'Mumbai Palace ': 'PERSON',\n",
       " 'Dut ': 'GPE',\n",
       " 'Morse ': 'PERSON',\n",
       " 'Penny ': 'PERSON',\n",
       " 'Aah ': 'GPE',\n",
       " 'Yeah ': 'GPE',\n",
       " 'Fine ': 'GPE',\n",
       " 'Good ': 'GPE',\n",
       " 'Sounds ': 'GPE',\n",
       " 'Hang ': 'PERSON',\n",
       " 'Emile Dolbear ': 'PERSON',\n",
       " 'Humorous ': 'GPE',\n",
       " 'Latin ': 'PERSON',\n",
       " 'Dude ': 'GPE',\n",
       " 'Oecanthus ': 'GPE',\n",
       " 'Chickens ': 'GPE',\n",
       " 'Thank God ': 'PERSON',\n",
       " 'Fair ': 'GPE',\n",
       " 'Fantastic Four ': 'ORGANIZATION',\n",
       " 'Silver Surfer ': 'PERSON',\n",
       " 'Hmm ': 'GPE',\n",
       " 'Great ': 'GPE',\n",
       " 'Hallway ': 'GPE',\n",
       " 'Ahh ': 'GPE',\n",
       " 'Indian ': 'GPE',\n",
       " 'Ironic ': 'GPE',\n",
       " 'Elevator ': 'GPE',\n",
       " 'Ooh ': 'GPE',\n",
       " 'Ahem ': 'GPE',\n",
       " 'Peppermint ': 'GPE',\n",
       " 'Schnapps ': 'GPE',\n",
       " 'Stairwell ': 'GSP',\n",
       " 'Flashlight ': 'PERSON',\n",
       " 'Fellas ': 'GPE',\n",
       " 'Hello ': 'GPE',\n",
       " 'Toby ': 'PERSON',\n",
       " 'Jiminy ': 'PERSON',\n",
       " 'Kleingast ': 'GPE',\n",
       " 'Field Guide ': 'PERSON',\n",
       " 'North ': 'GPE',\n",
       " 'American Insects ': 'ORGANIZATION',\n",
       " 'Gryllus ': 'PERSON',\n",
       " 'Shiksa ': 'GPE',\n",
       " 'Yiddish ': 'GPE',\n",
       " 'East Texas ': 'GPE',\n",
       " 'Entomology Department ': 'ORGANIZATION',\n",
       " 'Professor Crawley ': 'PERSON',\n",
       " 'Holy ': 'GPE',\n",
       " 'Lambs ': 'PERSON',\n",
       " 'Ladybugs ': 'GPE',\n",
       " 'Crawley ': 'ORGANIZATION',\n",
       " 'Physics Department ': 'ORGANIZATION',\n",
       " 'Could ': 'PERSON',\n",
       " 'New Delhi ': 'GPE',\n",
       " 'Professor ': 'GPE',\n",
       " 'Oxnard ': 'ORGANIZATION',\n",
       " 'No ': 'GPE',\n",
       " 'Young ': 'GPE',\n",
       " 'Creepy ': 'PERSON',\n",
       " 'Cruel ': 'GPE',\n",
       " 'Bornean ': 'GPE',\n",
       " 'Enjoy ': 'PERSON',\n",
       " 'New ': 'GPE',\n",
       " 'Wolowitz ': 'GPE',\n",
       " 'Wii ': 'PERSON',\n",
       " 'Riley ': 'PERSON',\n",
       " 'Meeting ': 'GPE',\n",
       " 'Little ': 'GPE',\n",
       " 'Oh ': 'GPE'}"
      ]
     },
     "execution_count": 31,
     "metadata": {},
     "output_type": "execute_result"
    }
   ],
   "source": [
    "categorical_wdrs"
   ]
  },
  {
   "cell_type": "markdown",
   "id": "eef122ec",
   "metadata": {},
   "source": [
    "- Comme on peut le voir, Wolverine, Harry Potter, Fantastic Four , Silver Surfer, Flash, ces heros sont mentionnes comme PERSON. \n",
    "\n",
    "- Entomology Department, American Insects sont des associations lié à l'entomologie.\n",
    "\n",
    "- Les geolisations lieux sont mentionnées sont Raj, India , New Delhi pour les India, East Texas, Oxnard marqués comme GPE.\n",
    "  "
   ]
  },
  {
   "cell_type": "markdown",
   "id": "33993df3",
   "metadata": {},
   "source": [
    "### Determiner quels animaux sont mentionnés la plus souvent cité dans ce text"
   ]
  },
  {
   "cell_type": "code",
   "execution_count": null,
   "id": "343014e1",
   "metadata": {},
   "outputs": [],
   "source": [
    "from nltk.corpus import wordnet as wn\n",
    "wn.synsets('animal')"
   ]
  },
  {
   "cell_type": "code",
   "execution_count": null,
   "id": "e19270ed",
   "metadata": {},
   "outputs": [],
   "source": [
    "# Liste des aliments de la fonctionalité synonyme de WordNet\n",
    "animal_synset = wn.synset('animal.n.01')\n",
    "animals = list(set([str.lower(w) for s in animal_synset.closure(lambda s:s.hyponyms())\n",
    "            for w in s.lemma_names()]))"
   ]
  },
  {
   "cell_type": "code",
   "execution_count": null,
   "id": "e678607c",
   "metadata": {},
   "outputs": [],
   "source": [
    "print(animals[:200])"
   ]
  },
  {
   "cell_type": "code",
   "execution_count": null,
   "id": "89ff706a",
   "metadata": {},
   "outputs": [],
   "source": [
    "animal_in_text = []\n",
    "\n",
    "lem_list_check_for_animal = lem_noun + lem_adj + lem_verb\n",
    "\n",
    "for word in lem_list_check_for_animal:\n",
    "    if word in animals:\n",
    "        animal_in_text.append(word)"
   ]
  },
  {
   "cell_type": "code",
   "execution_count": null,
   "id": "6c6e5899",
   "metadata": {},
   "outputs": [],
   "source": [
    "set(animal_in_text)"
   ]
  },
  {
   "cell_type": "code",
   "execution_count": null,
   "id": "a48b518a",
   "metadata": {},
   "outputs": [],
   "source": [
    "# «Frequency distribution» pour afficher les fréquences des animals\n",
    "fd = FreqDist(animal_in_text)\n",
    "fd.plot(cumulative=True,\n",
    "       title=\"Distribution des fréquences des animals dans le texte tbbts03e02.txt\")"
   ]
  },
  {
   "cell_type": "markdown",
   "id": "84cf3b02",
   "metadata": {},
   "source": [
    "## Conclusion\n",
    "\n",
    "Effectivement, J'ai implémenté juste des méthodes pour trouver analyser quelques objectifs, les méthodes ne sont pas optimisées et elles seront mises à jours dans le futur."
   ]
  }
 ],
 "metadata": {
  "kernelspec": {
   "display_name": "Python 3 (ipykernel)",
   "language": "python",
   "name": "python3"
  },
  "language_info": {
   "codemirror_mode": {
    "name": "ipython",
    "version": 3
   },
   "file_extension": ".py",
   "mimetype": "text/x-python",
   "name": "python",
   "nbconvert_exporter": "python",
   "pygments_lexer": "ipython3",
   "version": "3.9.7"
  }
 },
 "nbformat": 4,
 "nbformat_minor": 5
}
