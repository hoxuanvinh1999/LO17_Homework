{
 "cells": [
  {
   "cell_type": "code",
   "execution_count": 84,
   "id": "b2a63a12",
   "metadata": {},
   "outputs": [
    {
     "data": {
      "text/plain": [
       "<function TextIOWrapper.close()>"
      ]
     },
     "execution_count": 84,
     "metadata": {},
     "output_type": "execute_result"
    }
   ],
   "source": [
    "import nltk\n",
    "import os\n",
    "#task_1\n",
    "textfile = open('test.txt','r')\n",
    "data = textfile.read()\n",
    "textfile.close\n",
    "#print(data)"
   ]
  },
  {
   "cell_type": "code",
   "execution_count": null,
   "id": "c976dd43",
   "metadata": {},
   "outputs": [],
   "source": [
    "#task_2\n",
    "from nltk.tokenize import sent_tokenize, word_tokenize\n",
    "token_example  = word_tokenize(data)\n",
    "#print(token_example)"
   ]
  },
  {
   "cell_type": "code",
   "execution_count": null,
   "id": "5b85239c",
   "metadata": {},
   "outputs": [],
   "source": [
    "\n",
    "#task_3\n",
    "data_lower = data.lower()\n",
    "#print(data_lower)"
   ]
  },
  {
   "cell_type": "code",
   "execution_count": 85,
   "id": "d38df8ab",
   "metadata": {},
   "outputs": [],
   "source": [
    "#task_4\n",
    "data_length_inf2 = ''\n",
    "for word in data.split():\n",
    "    if len(word) > 2:\n",
    "        data_length_inf2 += word\n",
    "        data_length_inf2 += ' '\n",
    "#print(data_length_inf2)"
   ]
  },
  {
   "cell_type": "code",
   "execution_count": null,
   "id": "fff071f8",
   "metadata": {},
   "outputs": [],
   "source": [
    "#task_5\n",
    "from nltk.corpus import stopwords\n",
    "stop_words = set(stopwords.words(\"english\"))\n",
    "filtered_sentence = [w for w in token_example if not w in stop_words]\n",
    "#print(filtered_sentence)"
   ]
  },
  {
   "cell_type": "code",
   "execution_count": null,
   "id": "3b703892",
   "metadata": {},
   "outputs": [],
   "source": [
    "#task_6\n",
    "pos_data = nltk.pos_tag(token_example, tagset=\"universal\")\n",
    "select_verb = []\n",
    "for couple in  pos_data:\n",
    "    if couple[1] == 'VERB':\n",
    "        select_verb.append(couple[0])\n",
    "#print(select_verb)"
   ]
  },
  {
   "cell_type": "code",
   "execution_count": null,
   "id": "17c3b3cf",
   "metadata": {},
   "outputs": [],
   "source": [
    "#task_7\n",
    "from nltk.stem.wordnet import WordNetLemmatizer\n",
    "lemmatizer = WordNetLemmatizer()\n",
    "#print(lemmatizer)\n",
    "data_lemma = []\n",
    "for word in token_example:\n",
    "    data_lemma.append(lemmatizer.lemmatize(word))\n",
    "#print(data_lemma)"
   ]
  },
  {
   "cell_type": "code",
   "execution_count": null,
   "id": "2add54ae",
   "metadata": {},
   "outputs": [],
   "source": [
    "#task_8\n",
    "d = dict()\n",
    "  \n",
    "# Loop through each line of the file\n",
    "for line in token_example:\n",
    "    # Remove the leading spaces and newline character\n",
    "    line = line.strip()\n",
    "  \n",
    "    # Convert the characters in line to \n",
    "    # lowercase to avoid case mismatch\n",
    "    line = line.lower()\n",
    "  \n",
    "    # Split the line into words\n",
    "    words = line.split(\" \")\n",
    "  \n",
    "    # Iterate over each word in line\n",
    "    for word in words:\n",
    "        # Check if the word is already in dictionary\n",
    "        if word in d:\n",
    "            # Increment count of word by 1\n",
    "            d[word] = d[word] + 1\n",
    "        else:\n",
    "            # Add the word to dictionary with count 1\n",
    "            d[word] = 1\n",
    "\n",
    "for key in list(d.keys()):\n",
    "    if max < d[key]:\n",
    "        max = d[key]\n",
    "        mos_occurrences = key\n",
    "    #print(key, \":\", d[key])   "
   ]
  },
  {
   "cell_type": "code",
   "execution_count": null,
   "id": "7a0c7ae3",
   "metadata": {},
   "outputs": [],
   "source": [
    "#task_9\n",
    "from collections import Counter\n",
    "d_sorted  = Counter(d).most_common()\n",
    "#print(d_sorted)\n",
    "#print(d_sorted[:20])"
   ]
  }
 ],
 "metadata": {
  "kernelspec": {
   "display_name": "Python 3 (ipykernel)",
   "language": "python",
   "name": "python3"
  },
  "language_info": {
   "codemirror_mode": {
    "name": "ipython",
    "version": 3
   },
   "file_extension": ".py",
   "mimetype": "text/x-python",
   "name": "python",
   "nbconvert_exporter": "python",
   "pygments_lexer": "ipython3",
   "version": "3.9.7"
  }
 },
 "nbformat": 4,
 "nbformat_minor": 5
}
