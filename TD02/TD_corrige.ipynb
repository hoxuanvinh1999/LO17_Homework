{
 "cells": [
  {
   "cell_type": "code",
   "execution_count": 5,
   "id": "049656a8",
   "metadata": {},
   "outputs": [
    {
     "ename": "NameError",
     "evalue": "name 'sys' is not defined",
     "output_type": "error",
     "traceback": [
      "\u001b[0;31m---------------------------------------------------------------------------\u001b[0m",
      "\u001b[0;31mNameError\u001b[0m                                 Traceback (most recent call last)",
      "Input \u001b[0;32mIn [5]\u001b[0m, in \u001b[0;36m<cell line: 28>\u001b[0;34m()\u001b[0m\n\u001b[1;32m     25\u001b[0m     f\u001b[38;5;241m.\u001b[39mclose()\n\u001b[1;32m     26\u001b[0m     \u001b[38;5;28;01mreturn\u001b[39;00m index\n\u001b[0;32m---> 28\u001b[0m \u001b[38;5;28;01mif\u001b[39;00m \u001b[38;5;28mlen\u001b[39m(\u001b[43msys\u001b[49m\u001b[38;5;241m.\u001b[39margv) \u001b[38;5;241m!=\u001b[39m \u001b[38;5;241m2\u001b[39m :\n\u001b[1;32m     29\u001b[0m     \u001b[38;5;28mprint\u001b[39m \u001b[38;5;241m>>\u001b[39m sys\u001b[38;5;241m.\u001b[39mst\n",
      "\u001b[0;31mNameError\u001b[0m: name 'sys' is not defined"
     ]
    }
   ],
   "source": [
    "import  nltk \n",
    "import codecs \n",
    "import pickle\n",
    "\n",
    "def getWords(filemname):\n",
    "    f = codecs.open(filename, 'r', 'utf-8')\n",
    "    text = f.read().lower()\n",
    "    l = nltk.regexp_tokenize(text, \"\\w+\")\n",
    "    f.close()\n",
    "    return l\n",
    "\n",
    "def buildIndex(fileName):\n",
    "    pos = filename.rfind('/')\n",
    "    prefix = ''\n",
    "    if pos != -1 : \n",
    "        prefix = filename[:pos] + '/'\n",
    "    index = {}\n",
    "    f = open(fileName, 'r')\n",
    "    for text in f : \n",
    "        text = text[:-1]\n",
    "        for w in getWords(prefix+tetx):\n",
    "            index[w] = index.get(w,get([]))\n",
    "            index[w].add(text)\n",
    "    \n",
    "    f.close()\n",
    "    return index\n",
    "    \n",
    "if len(sys.argv) != 2 :\n",
    "    print >> sys.stderr , \"Usage : python \" + sys.argv[0] + \"<collection filename>\""
   ]
  },
  {
   "cell_type": "code",
   "execution_count": null,
   "id": "6f02093e",
   "metadata": {},
   "outputs": [],
   "source": []
  },
  {
   "cell_type": "code",
   "execution_count": null,
   "id": "e40469fd",
   "metadata": {},
   "outputs": [],
   "source": [
    "import sys\n",
    "\n",
    "def computeAndQuery(queyryWords, index):\n",
    "    result = index.get(queryWords[0], set([]))\n",
    "    for w in queyryWords[1:]:\n",
    "        result = result.intersection(index.get(w,set([])))\n",
    "        \n",
    "    return result\n",
    "\n",
    "def computeOrQuery(queyryWords, index):\n",
    "    result = index.get(queyryWords[i], set([]))\n",
    "    for w in queyryWords[1:]:\n",
    "        result = result.union(index.get(w,set([])))\n",
    "        \n",
    "    return result\n",
    "\n",
    "def computeQuery(query, index):\n",
    "    l = nltk.regexp_tokenize(text, \"\\w+\")\n",
    "    if (len(words) == 0):\n",
    "        return set([])\n",
    "    if not query.startwith('~'):\n",
    "        return computeAndQuery(words, index)\n",
    "    return computeOrQuery(words, index)\n",
    "\n",
    "index = pickle.load(open)\n"
   ]
  }
 ],
 "metadata": {
  "kernelspec": {
   "display_name": "Python 3 (ipykernel)",
   "language": "python",
   "name": "python3"
  },
  "language_info": {
   "codemirror_mode": {
    "name": "ipython",
    "version": 3
   },
   "file_extension": ".py",
   "mimetype": "text/x-python",
   "name": "python",
   "nbconvert_exporter": "python",
   "pygments_lexer": "ipython3",
   "version": "3.9.7"
  }
 },
 "nbformat": 4,
 "nbformat_minor": 5
}
