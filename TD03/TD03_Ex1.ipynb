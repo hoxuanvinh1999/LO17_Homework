{
 "cells": [
  {
   "cell_type": "code",
   "execution_count": 2,
   "id": "eb1685d7",
   "metadata": {},
   "outputs": [
    {
     "name": "stderr",
     "output_type": "stream",
     "text": [
      "[nltk_data] Downloading package genesis to C:\\Users\\Ho Xuan\n",
      "[nltk_data]     Vinh\\AppData\\Roaming\\nltk_data...\n",
      "[nltk_data]   Package genesis is already up-to-date!\n",
      "[nltk_data] Downloading package inaugural to C:\\Users\\Ho Xuan\n",
      "[nltk_data]     Vinh\\AppData\\Roaming\\nltk_data...\n",
      "[nltk_data]   Package inaugural is already up-to-date!\n",
      "[nltk_data] Downloading package nps_chat to C:\\Users\\Ho Xuan\n",
      "[nltk_data]     Vinh\\AppData\\Roaming\\nltk_data...\n",
      "[nltk_data]   Package nps_chat is already up-to-date!\n",
      "[nltk_data] Downloading package webtext to C:\\Users\\Ho Xuan\n",
      "[nltk_data]     Vinh\\AppData\\Roaming\\nltk_data...\n",
      "[nltk_data]   Package webtext is already up-to-date!\n",
      "[nltk_data] Downloading package treebank to C:\\Users\\Ho Xuan\n",
      "[nltk_data]     Vinh\\AppData\\Roaming\\nltk_data...\n",
      "[nltk_data]   Package treebank is already up-to-date!\n",
      "[nltk_data] Downloading package stopwords to C:\\Users\\Ho Xuan\n",
      "[nltk_data]     Vinh\\AppData\\Roaming\\nltk_data...\n",
      "[nltk_data]   Package stopwords is already up-to-date!\n"
     ]
    },
    {
     "name": "stdout",
     "output_type": "stream",
     "text": [
      "*** Introductory Examples for the NLTK Book ***\n",
      "Loading text1, ..., text9 and sent1, ..., sent9\n",
      "Type the name of the text or sentence to view it.\n",
      "Type: 'texts()' or 'sents()' to list the materials.\n",
      "text1: Moby Dick by Herman Melville 1851\n",
      "text2: Sense and Sensibility by Jane Austen 1811\n",
      "text3: The Book of Genesis\n",
      "text4: Inaugural Address Corpus\n",
      "text5: Chat Corpus\n",
      "text6: Monty Python and the Holy Grail\n",
      "text7: Wall Street Journal\n",
      "text8: Personals Corpus\n",
      "text9: The Man Who Was Thursday by G . K . Chesterton 1908\n"
     ]
    }
   ],
   "source": [
    "import nltk\n",
    "import os\n",
    "import nltk\n",
    "nltk.download('genesis')\n",
    "nltk.download('inaugural')\n",
    "nltk.download('nps_chat')\n",
    "nltk.download('webtext')\n",
    "nltk.download('treebank')\n",
    "nltk.download('stopwords')\n",
    "from nltk.corpus import udhr\n",
    "from nltk.book import *\n",
    "from nltk.corpus import stopwords\n",
    "from string import punctuation"
   ]
  },
  {
   "cell_type": "code",
   "execution_count": 1,
   "id": "7d6385b5",
   "metadata": {},
   "outputs": [],
   "source": [
    "import spacy\n",
    "import pandas as pd"
   ]
  },
  {
   "cell_type": "code",
   "execution_count": 15,
   "id": "a1b59018",
   "metadata": {},
   "outputs": [
    {
     "name": "stdout",
     "output_type": "stream",
     "text": [
      "                                   product_name\n",
      "0                                jeunes pousses\n",
      "1                                       L.casei\n",
      "2                              Vitória crackers\n",
      "3                                         Cacao\n",
      "4                     Filetes de pollo empanado\n",
      "...                                         ...\n",
      "2221070  Sandwich club Rillette poisson combava\n",
      "2221071                 Thé noir BIO Darjeeling\n",
      "2221072                                    Fati\n",
      "2221073               Light & Free SKYR A BOIRE\n",
      "2221074                       Signal Toothpaste\n",
      "\n",
      "[2221075 rows x 1 columns]\n"
     ]
    }
   ],
   "source": [
    "file_scv  = 'en.openfoodfacts.org.products.csv'\n",
    "product_name = pd.read_csv(file_scv, usecols= ['product_name'] , sep = '\\t')\n",
    "print(product_name)"
   ]
  },
  {
   "cell_type": "code",
   "execution_count": 1,
   "id": "538b3354",
   "metadata": {
    "scrolled": true
   },
   "outputs": [
    {
     "name": "stdout",
     "output_type": "stream",
     "text": [
      "Collecting https://github.com/explosion/spacy-models/releases/download/en_core_web_sm-3.0.0/en_core_web_sm-3.0.0.tar.gzNote: you may need to restart the kernel to use updated packages.\n",
      "  Using cached https://github.com/explosion/spacy-models/releases/download/en_core_web_sm-3.0.0/en_core_web_sm-3.0.0.tar.gz (13.7 MB)\n",
      "Requirement already satisfied: spacy<3.1.0,>=3.0.0 in c:\\users\\ho xuan vinh\\anaconda3\\lib\\site-packages (from en-core-web-sm==3.0.0) (3.0.8)\n",
      "Requirement already satisfied: thinc<8.1.0,>=8.0.3 in c:\\users\\ho xuan vinh\\anaconda3\\lib\\site-packages (from spacy<3.1.0,>=3.0.0->en-core-web-sm==3.0.0) (8.0.15)\n",
      "Requirement already satisfied: packaging>=20.0 in c:\\users\\ho xuan vinh\\anaconda3\\lib\\site-packages (from spacy<3.1.0,>=3.0.0->en-core-web-sm==3.0.0) (21.0)\n",
      "Requirement already satisfied: cymem<2.1.0,>=2.0.2 in c:\\users\\ho xuan vinh\\anaconda3\\lib\\site-packages (from spacy<3.1.0,>=3.0.0->en-core-web-sm==3.0.0) (2.0.6)\n",
      "Requirement already satisfied: requests<3.0.0,>=2.13.0 in c:\\users\\ho xuan vinh\\anaconda3\\lib\\site-packages (from spacy<3.1.0,>=3.0.0->en-core-web-sm==3.0.0) (2.26.0)\n",
      "Requirement already satisfied: srsly<3.0.0,>=2.4.1 in c:\\users\\ho xuan vinh\\anaconda3\\lib\\site-packages (from spacy<3.1.0,>=3.0.0->en-core-web-sm==3.0.0) (2.4.2)\n",
      "Requirement already satisfied: murmurhash<1.1.0,>=0.28.0 in c:\\users\\ho xuan vinh\\anaconda3\\lib\\site-packages (from spacy<3.1.0,>=3.0.0->en-core-web-sm==3.0.0) (1.0.6)\n",
      "Requirement already satisfied: blis<0.8.0,>=0.4.0 in c:\\users\\ho xuan vinh\\anaconda3\\lib\\site-packages (from spacy<3.1.0,>=3.0.0->en-core-web-sm==3.0.0) (0.7.6)\n",
      "Requirement already satisfied: pathy>=0.3.5 in c:\\users\\ho xuan vinh\\anaconda3\\lib\\site-packages (from spacy<3.1.0,>=3.0.0->en-core-web-sm==3.0.0) (0.6.1)\n",
      "Requirement already satisfied: setuptools in c:\\users\\ho xuan vinh\\anaconda3\\lib\\site-packages (from spacy<3.1.0,>=3.0.0->en-core-web-sm==3.0.0) (58.0.4)\n",
      "Requirement already satisfied: wasabi<1.1.0,>=0.8.1 in c:\\users\\ho xuan vinh\\anaconda3\\lib\\site-packages (from spacy<3.1.0,>=3.0.0->en-core-web-sm==3.0.0) (0.9.0)\n",
      "Requirement already satisfied: tqdm<5.0.0,>=4.38.0 in c:\\users\\ho xuan vinh\\anaconda3\\lib\\site-packages (from spacy<3.1.0,>=3.0.0->en-core-web-sm==3.0.0) (4.62.3)\n",
      "Requirement already satisfied: jinja2 in c:\\users\\ho xuan vinh\\anaconda3\\lib\\site-packages (from spacy<3.1.0,>=3.0.0->en-core-web-sm==3.0.0) (2.11.3)\n",
      "Requirement already satisfied: pydantic!=1.8,!=1.8.1,<1.9.0,>=1.7.4 in c:\\users\\ho xuan vinh\\anaconda3\\lib\\site-packages (from spacy<3.1.0,>=3.0.0->en-core-web-sm==3.0.0) (1.8.2)\n",
      "Requirement already satisfied: catalogue<2.1.0,>=2.0.4 in c:\\users\\ho xuan vinh\\anaconda3\\lib\\site-packages (from spacy<3.1.0,>=3.0.0->en-core-web-sm==3.0.0) (2.0.6)\n",
      "Requirement already satisfied: typer<0.4.0,>=0.3.0 in c:\\users\\ho xuan vinh\\anaconda3\\lib\\site-packages (from spacy<3.1.0,>=3.0.0->en-core-web-sm==3.0.0) (0.3.2)\n",
      "Requirement already satisfied: spacy-legacy<3.1.0,>=3.0.5 in c:\\users\\ho xuan vinh\\anaconda3\\lib\\site-packages (from spacy<3.1.0,>=3.0.0->en-core-web-sm==3.0.0) (3.0.9)\n",
      "Requirement already satisfied: numpy>=1.15.0 in c:\\users\\ho xuan vinh\\anaconda3\\lib\\site-packages (from spacy<3.1.0,>=3.0.0->en-core-web-sm==3.0.0) (1.20.3)\n",
      "Requirement already satisfied: preshed<3.1.0,>=3.0.2 in c:\\users\\ho xuan vinh\\anaconda3\\lib\\site-packages (from spacy<3.1.0,>=3.0.0->en-core-web-sm==3.0.0) (3.0.6)\n",
      "Requirement already satisfied: pyparsing>=2.0.2 in c:\\users\\ho xuan vinh\\anaconda3\\lib\\site-packages (from packaging>=20.0->spacy<3.1.0,>=3.0.0->en-core-web-sm==3.0.0) (3.0.4)\n",
      "Requirement already satisfied: smart-open<6.0.0,>=5.0.0 in c:\\users\\ho xuan vinh\\anaconda3\\lib\\site-packages (from pathy>=0.3.5->spacy<3.1.0,>=3.0.0->en-core-web-sm==3.0.0) (5.2.1)\n",
      "Requirement already satisfied: typing-extensions>=3.7.4.3 in c:\\users\\ho xuan vinh\\anaconda3\\lib\\site-packages (from pydantic!=1.8,!=1.8.1,<1.9.0,>=1.7.4->spacy<3.1.0,>=3.0.0->en-core-web-sm==3.0.0) (3.10.0.2)\n",
      "Requirement already satisfied: certifi>=2017.4.17 in c:\\users\\ho xuan vinh\\anaconda3\\lib\\site-packages (from requests<3.0.0,>=2.13.0->spacy<3.1.0,>=3.0.0->en-core-web-sm==3.0.0) (2021.10.8)\n",
      "Requirement already satisfied: idna<4,>=2.5 in c:\\users\\ho xuan vinh\\anaconda3\\lib\\site-packages (from requests<3.0.0,>=2.13.0->spacy<3.1.0,>=3.0.0->en-core-web-sm==3.0.0) (3.2)\n",
      "Requirement already satisfied: urllib3<1.27,>=1.21.1 in c:\\users\\ho xuan vinh\\anaconda3\\lib\\site-packages (from requests<3.0.0,>=2.13.0->spacy<3.1.0,>=3.0.0->en-core-web-sm==3.0.0) (1.26.7)\n",
      "Requirement already satisfied: charset-normalizer~=2.0.0 in c:\\users\\ho xuan vinh\\anaconda3\\lib\\site-packages (from requests<3.0.0,>=2.13.0->spacy<3.1.0,>=3.0.0->en-core-web-sm==3.0.0) (2.0.4)\n",
      "Requirement already satisfied: colorama in c:\\users\\ho xuan vinh\\anaconda3\\lib\\site-packages (from tqdm<5.0.0,>=4.38.0->spacy<3.1.0,>=3.0.0->en-core-web-sm==3.0.0) (0.4.4)\n",
      "Requirement already satisfied: click<7.2.0,>=7.1.1 in c:\\users\\ho xuan vinh\\anaconda3\\lib\\site-packages (from typer<0.4.0,>=0.3.0->spacy<3.1.0,>=3.0.0->en-core-web-sm==3.0.0) (7.1.2)\n",
      "Requirement already satisfied: MarkupSafe>=0.23 in c:\\users\\ho xuan vinh\\anaconda3\\lib\\site-packages (from jinja2->spacy<3.1.0,>=3.0.0->en-core-web-sm==3.0.0) (1.1.1)\n",
      "Building wheels for collected packages: en-core-web-sm\n",
      "  Building wheel for en-core-web-sm (setup.py): started\n",
      "  Building wheel for en-core-web-sm (setup.py): finished with status 'done'\n",
      "  Created wheel for en-core-web-sm: filename=en_core_web_sm-3.0.0-py3-none-any.whl size=13704318 sha256=71b4cf839b84b3246f9ff24e3abeaf9df70facfcad475e687cf3d81fd1c3b4ef\n",
      "  Stored in directory: c:\\users\\ho xuan vinh\\appdata\\local\\pip\\cache\\wheels\\88\\16\\62\\706709a80d48c983fffc44547114a933c464cd032e19378fb2\n",
      "Successfully built en-core-web-sm\n",
      "Installing collected packages: en-core-web-sm\n",
      "\n",
      "Successfully installed en-core-web-sm-3.0.0\n"
     ]
    }
   ],
   "source": [
    "pip install https://github.com/explosion/spacy-models/releases/download/en_core_web_sm-3.0.0/en_core_web_sm-3.0.0.tar.gz --user"
   ]
  },
  {
   "cell_type": "code",
   "execution_count": 3,
   "id": "4dd7dae1",
   "metadata": {},
   "outputs": [],
   "source": [
    "import en_core_web_sm\n",
    "nlp = en_core_web_sm.load()"
   ]
  },
  {
   "cell_type": "code",
   "execution_count": 66,
   "id": "a19aecb4",
   "metadata": {},
   "outputs": [
    {
     "name": "stdout",
     "output_type": "stream",
     "text": [
      "['jeunes pousses', 'L.casei', 'Vitória crackers', 'Cacao', 'Filetes de pollo empanado', 'Hamburguesas de ternera 100%', 'hyde icon', ' moutarde au moût de raisin ', 'Sauce Sweety chili 0%', 'Mini coco', \"Pistou d'ail des ours\", 'Pain maïs', 'Mendiants', 'Limonade artisanale a la rose', 'Sachet calisson', 'Pur jus de pomme', \"Pate d'amande\", 'Salade de carottes râpées', 'Fromage blanc aux myrtilles', nan, 'Vainilla', 'Iogurt de cabra', 'Baguette parisien', 'Chocolate n 3', '&quot;Baguette Lyonnais&quot;', 'Solène céréales poulet', 'Tarte noix de coco', 'Caramel au beurre salé', 'Salade de fruits exotiques', 'Chouquettes x 30', 'Pain de maïs bio', 'Tisane Cassis', 'Fromage blanc pêche', 'Crème dessert chocolat', 'Bouillie de sarrasin', 'Yaourt au chocolat', 'Compote de poire', 'Paëlla de poulet', 'Aiguillettes de poulet', 'Salade shaker chef', 'Salade de macedoine de légumes', 'Baguette Poitevin', 'Suedois thon', 'Ciabatta Bombay', 'Ciabatta Roma', 'Confiture de lait', 'Salade tomate', 'Farine de blé noir', 'Sel du Chateau', 'Mousse chocolat douceur']\n",
      "['jeunes pousses', 'L.casei', 'Vitória crackers', 'Cacao', 'Filetes de pollo empanado', 'Hamburguesas de ternera 100', 'hyde icon', '  moutarde au moût de raisin', 'Sauce Sweety chili 0', 'Mini coco', \"Pistou d'ail des\", 'Pain maïs', 'Mendiants', 'Limonade artisanale la rose', 'Sachet calisson', 'Pur jus de pomme', \"Pate d'amande\", 'Salade de carottes râpées', 'Fromage blanc aux myrtilles', 'Vainilla', 'Iogurt de cabra', 'Baguette parisien', 'Chocolate n 3', 'quot;Baguette Lyonnais&quot', 'Solène céréales poulet', 'Tarte noix de coco', 'Caramel au beurre salé', 'Salade de fruits exotiques', 'Chouquettes x 30', 'Pain de maïs bio', 'Tisane Cassis', 'Fromage blanc pêche', 'Crème dessert chocolat', 'Bouillie de sarrasin', 'Yaourt au chocolat', 'Compote de poire', 'Paëlla de poulet', 'Aiguillettes de poulet', 'Salade shaker chef', 'Salade de macedoine de légumes', 'Baguette Poitevin', 'Suedois thon', 'Ciabatta Bombay', 'Ciabatta Roma', 'Confiture de lait', 'Salade tomate', 'Farine de blé noir', 'Sel du Chateau', 'Mousse chocolat douceur']\n"
     ]
    }
   ],
   "source": [
    "from spacy.lang.en.stop_words import STOP_WORDS\n",
    "data = product_name['product_name'].tolist()\n",
    "after_clean_data = []\n",
    "for word in data[:50]:\n",
    "    if type(word) == str:\n",
    "        nlp_string = nlp(word)\n",
    "        token_list = []\n",
    "        filtered_sentence = ''\n",
    "        for token in nlp_string:\n",
    "            token_list.append(token.text)\n",
    "        for element in token_list:\n",
    "            lexeme = nlp.vocab[element]\n",
    "            if lexeme.is_stop == False and lexeme.is_punct == False:\n",
    "                filtered_sentence += element + ' '\n",
    "        after_clean_data.append(filtered_sentence.rstrip())\n",
    "print(data[:50])\n",
    "print(after_clean_data)"
   ]
  },
  {
   "cell_type": "code",
   "execution_count": null,
   "id": "e8cac91c",
   "metadata": {},
   "outputs": [],
   "source": []
  }
 ],
 "metadata": {
  "kernelspec": {
   "display_name": "Python 3 (ipykernel)",
   "language": "python",
   "name": "python3"
  },
  "language_info": {
   "codemirror_mode": {
    "name": "ipython",
    "version": 3
   },
   "file_extension": ".py",
   "mimetype": "text/x-python",
   "name": "python",
   "nbconvert_exporter": "python",
   "pygments_lexer": "ipython3",
   "version": "3.9.7"
  }
 },
 "nbformat": 4,
 "nbformat_minor": 5
}
